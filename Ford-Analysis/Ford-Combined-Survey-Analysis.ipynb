{
 "cells": [
  {
   "cell_type": "markdown",
   "id": "ba3d79a5",
   "metadata": {},
   "source": [
    "# Survey Analysis Report\n",
    "### Team Ford\n",
    "Samantha Howard, Jyotsna Singh, Ishaan Pathak and Nick Mouaikel"
   ]
  },
  {
   "cell_type": "markdown",
   "id": "2c7e0830",
   "metadata": {},
   "source": [
    "# Sam's Analysis"
   ]
  },
  {
   "cell_type": "markdown",
   "id": "3c232789",
   "metadata": {},
   "source": [
    "## Abstract\n",
    "Short summary about the data and what it tells you about your project. "
   ]
  },
  {
   "cell_type": "markdown",
   "id": "1585bdc5",
   "metadata": {},
   "source": [
    "## Data input\n",
    "In this section include code that reads in the csv file"
   ]
  },
  {
   "cell_type": "code",
<<<<<<< HEAD
   "execution_count": 2,
=======
   "execution_count": null,
>>>>>>> main
   "id": "e8756be9",
   "metadata": {},
   "outputs": [],
   "source": [
    "import matplotlib.pyplot as plt\n",
    "import pandas as pd\n",
    "import numpy as np\n",
    "import seaborn as sns"
   ]
  },
  {
   "cell_type": "code",
   "execution_count": 3,
   "id": "ab48408a",
   "metadata": {},
   "outputs": [
    {
     "data": {
      "text/html": [
       "<div>\n",
       "<style scoped>\n",
       "    .dataframe tbody tr th:only-of-type {\n",
       "        vertical-align: middle;\n",
       "    }\n",
       "\n",
       "    .dataframe tbody tr th {\n",
       "        vertical-align: top;\n",
       "    }\n",
       "\n",
       "    .dataframe thead th {\n",
       "        text-align: right;\n",
       "    }\n",
       "</style>\n",
       "<table border=\"1\" class=\"dataframe\">\n",
       "  <thead>\n",
       "    <tr style=\"text-align: right;\">\n",
       "      <th></th>\n",
       "      <th>ARFL</th>\n",
       "      <th>Argonne</th>\n",
       "      <th>Boeing</th>\n",
       "      <th>Delta Dental</th>\n",
       "      <th>Ford</th>\n",
       "      <th>Hope Village</th>\n",
       "      <th>Kellogg's</th>\n",
       "      <th>Neogen</th>\n",
       "      <th>Old Nation</th>\n",
       "      <th>Qside</th>\n",
       "    </tr>\n",
       "  </thead>\n",
       "  <tbody>\n",
       "    <tr>\n",
       "      <th>0</th>\n",
       "      <td>7</td>\n",
       "      <td>4</td>\n",
       "      <td>9</td>\n",
       "      <td>8</td>\n",
       "      <td>3</td>\n",
       "      <td>0</td>\n",
       "      <td>6</td>\n",
       "      <td>2</td>\n",
       "      <td>5</td>\n",
       "      <td>1</td>\n",
       "    </tr>\n",
       "    <tr>\n",
       "      <th>1</th>\n",
       "      <td>0</td>\n",
       "      <td>1</td>\n",
       "      <td>3</td>\n",
       "      <td>2</td>\n",
       "      <td>4</td>\n",
       "      <td>8</td>\n",
       "      <td>6</td>\n",
       "      <td>5</td>\n",
       "      <td>7</td>\n",
       "      <td>9</td>\n",
       "    </tr>\n",
       "    <tr>\n",
       "      <th>2</th>\n",
       "      <td>3</td>\n",
       "      <td>2</td>\n",
       "      <td>1</td>\n",
       "      <td>6</td>\n",
       "      <td>0</td>\n",
       "      <td>8</td>\n",
       "      <td>5</td>\n",
       "      <td>4</td>\n",
       "      <td>7</td>\n",
       "      <td>9</td>\n",
       "    </tr>\n",
       "    <tr>\n",
       "      <th>3</th>\n",
       "      <td>8</td>\n",
       "      <td>7</td>\n",
       "      <td>3</td>\n",
       "      <td>9</td>\n",
       "      <td>4</td>\n",
       "      <td>5</td>\n",
       "      <td>0</td>\n",
       "      <td>6</td>\n",
       "      <td>1</td>\n",
       "      <td>2</td>\n",
       "    </tr>\n",
       "    <tr>\n",
       "      <th>4</th>\n",
       "      <td>0</td>\n",
       "      <td>2</td>\n",
       "      <td>1</td>\n",
       "      <td>8</td>\n",
       "      <td>7</td>\n",
       "      <td>3</td>\n",
       "      <td>9</td>\n",
       "      <td>6</td>\n",
       "      <td>4</td>\n",
       "      <td>5</td>\n",
       "    </tr>\n",
       "  </tbody>\n",
       "</table>\n",
       "</div>"
      ],
      "text/plain": [
       "   ARFL  Argonne  Boeing  Delta Dental  Ford  Hope Village  Kellogg's  Neogen  \\\n",
       "0     7        4       9             8     3             0          6       2   \n",
       "1     0        1       3             2     4             8          6       5   \n",
       "2     3        2       1             6     0             8          5       4   \n",
       "3     8        7       3             9     4             5          0       6   \n",
       "4     0        2       1             8     7             3          9       6   \n",
       "\n",
       "   Old Nation  Qside  \n",
       "0           5      1  \n",
       "1           7      9  \n",
       "2           7      9  \n",
       "3           1      2  \n",
       "4           4      5  "
      ]
     },
     "execution_count": 3,
     "metadata": {},
     "output_type": "execute_result"
    }
   ],
   "source": [
    "dist = pd.read_csv(\"2022_Project_distance_Matrix.csv\")\n",
    "dist.head()"
   ]
  },
  {
   "cell_type": "code",
   "execution_count": 4,
   "id": "cf5500f6",
   "metadata": {},
   "outputs": [],
   "source": [
    "# Team List\n",
    "Teams =[\"ARFL\",\"Argonne\",\"Boeing\",\"Delta Dental\",\"Ford\",\"Hope Village\",\"Kellogg's\",\"Neogen\",\"Old Nation\",\"Qside\"]\n",
    "\n",
    "# Broken up by team\n",
    "#team = dist[dist['team'] == 0]\n",
    "ARFL = dist[dist['ARFL'] == 0]\n",
    "Argonne = dist[dist['Argonne'] == 0]\n",
    "\n",
    "Boeing = dist[dist['Boeing'] == 0]\n",
    "Delta = dist[dist['Delta Dental'] == 0]\n",
    "\n",
    "Ford = dist[dist['Ford'] == 0] #6 members\n",
    "Hope = dist[dist['Hope Village'] == 0]\n",
    "\n",
    "Kellogg = dist[dist[\"Kellogg's\"] == 0]\n",
    "Neogen = dist[dist['Neogen'] == 0]\n",
    "\n",
    "Old = dist[dist['Old Nation'] == 0]\n",
    "Qside = dist[dist['Qside'] == 0] #2 members"
   ]
  },
  {
   "cell_type": "markdown",
   "id": "6f3ed646",
   "metadata": {},
   "source": [
    "## Data Cleaning\n",
    "In this section provide code for converting the raw data into clean and usable data structures (if needed)"
   ]
  },
  {
   "cell_type": "markdown",
   "id": "9facf153",
   "metadata": {},
   "source": [
    "While there is no NA values there is a potental error in the collection of the data. As the team Qside had 2 entries, and Team ford had 6. And these are not the correct number of members for either."
   ]
  },
  {
   "cell_type": "code",
   "execution_count": 5,
   "id": "712a7a12",
   "metadata": {},
   "outputs": [
    {
     "data": {
      "text/plain": [
       "ARFL            0\n",
       "Argonne         0\n",
       "Boeing          0\n",
       "Delta Dental    0\n",
       "Ford            0\n",
       "Hope Village    0\n",
       "Kellogg's       0\n",
       "Neogen          0\n",
       "Old Nation      0\n",
       "Qside           0\n",
       "dtype: int64"
      ]
     },
     "execution_count": 5,
     "metadata": {},
     "output_type": "execute_result"
    }
   ],
   "source": [
    "#no missing entries\n",
    "dist.isna().sum()"
   ]
  },
  {
   "cell_type": "markdown",
   "id": "cb7fdf95",
   "metadata": {},
   "source": [
    "## Data Modeling"
   ]
  },
  {
   "cell_type": "code",
   "execution_count": 6,
   "id": "7703794d",
   "metadata": {},
   "outputs": [
    {
     "data": {
      "text/html": [
       "<div>\n",
       "<style scoped>\n",
       "    .dataframe tbody tr th:only-of-type {\n",
       "        vertical-align: middle;\n",
       "    }\n",
       "\n",
       "    .dataframe tbody tr th {\n",
       "        vertical-align: top;\n",
       "    }\n",
       "\n",
       "    .dataframe thead th {\n",
       "        text-align: right;\n",
       "    }\n",
       "</style>\n",
       "<table border=\"1\" class=\"dataframe\">\n",
       "  <thead>\n",
       "    <tr style=\"text-align: right;\">\n",
       "      <th></th>\n",
       "      <th>ARFL</th>\n",
       "      <th>Argonne</th>\n",
       "      <th>Boeing</th>\n",
       "      <th>Delta Dental</th>\n",
       "      <th>Ford</th>\n",
       "      <th>Hope Village</th>\n",
       "      <th>Kellogg's</th>\n",
       "      <th>Neogen</th>\n",
       "      <th>Old Nation</th>\n",
       "      <th>Qside</th>\n",
       "    </tr>\n",
       "  </thead>\n",
       "  <tbody>\n",
       "    <tr>\n",
       "      <th>ARFL</th>\n",
       "      <td>1.000000</td>\n",
       "      <td>0.316525</td>\n",
       "      <td>0.361881</td>\n",
       "      <td>0.243643</td>\n",
       "      <td>0.061635</td>\n",
       "      <td>-0.577136</td>\n",
       "      <td>-0.211970</td>\n",
       "      <td>-0.017531</td>\n",
       "      <td>-0.474939</td>\n",
       "      <td>-0.494224</td>\n",
       "    </tr>\n",
       "    <tr>\n",
       "      <th>Argonne</th>\n",
       "      <td>0.316525</td>\n",
       "      <td>1.000000</td>\n",
       "      <td>0.483512</td>\n",
       "      <td>0.063318</td>\n",
       "      <td>0.157784</td>\n",
       "      <td>-0.434898</td>\n",
       "      <td>-0.338808</td>\n",
       "      <td>-0.141758</td>\n",
       "      <td>-0.436384</td>\n",
       "      <td>-0.557939</td>\n",
       "    </tr>\n",
       "    <tr>\n",
       "      <th>Boeing</th>\n",
       "      <td>0.361881</td>\n",
       "      <td>0.483512</td>\n",
       "      <td>1.000000</td>\n",
       "      <td>-0.146465</td>\n",
       "      <td>0.183945</td>\n",
       "      <td>-0.707230</td>\n",
       "      <td>-0.101455</td>\n",
       "      <td>0.156961</td>\n",
       "      <td>-0.505099</td>\n",
       "      <td>-0.659948</td>\n",
       "    </tr>\n",
       "    <tr>\n",
       "      <th>Delta Dental</th>\n",
       "      <td>0.243643</td>\n",
       "      <td>0.063318</td>\n",
       "      <td>-0.146465</td>\n",
       "      <td>1.000000</td>\n",
       "      <td>0.042934</td>\n",
       "      <td>-0.128369</td>\n",
       "      <td>-0.424887</td>\n",
       "      <td>-0.205687</td>\n",
       "      <td>-0.154399</td>\n",
       "      <td>-0.202978</td>\n",
       "    </tr>\n",
       "    <tr>\n",
       "      <th>Ford</th>\n",
       "      <td>0.061635</td>\n",
       "      <td>0.157784</td>\n",
       "      <td>0.183945</td>\n",
       "      <td>0.042934</td>\n",
       "      <td>1.000000</td>\n",
       "      <td>-0.410659</td>\n",
       "      <td>-0.120666</td>\n",
       "      <td>0.142023</td>\n",
       "      <td>-0.591787</td>\n",
       "      <td>-0.548476</td>\n",
       "    </tr>\n",
       "    <tr>\n",
       "      <th>Hope Village</th>\n",
       "      <td>-0.577136</td>\n",
       "      <td>-0.434898</td>\n",
       "      <td>-0.707230</td>\n",
       "      <td>-0.128369</td>\n",
       "      <td>-0.410659</td>\n",
       "      <td>1.000000</td>\n",
       "      <td>-0.041932</td>\n",
       "      <td>-0.293983</td>\n",
       "      <td>0.681481</td>\n",
       "      <td>0.728218</td>\n",
       "    </tr>\n",
       "    <tr>\n",
       "      <th>Kellogg's</th>\n",
       "      <td>-0.211970</td>\n",
       "      <td>-0.338808</td>\n",
       "      <td>-0.101455</td>\n",
       "      <td>-0.424887</td>\n",
       "      <td>-0.120666</td>\n",
       "      <td>-0.041932</td>\n",
       "      <td>1.000000</td>\n",
       "      <td>0.045035</td>\n",
       "      <td>-0.052038</td>\n",
       "      <td>0.211330</td>\n",
       "    </tr>\n",
       "    <tr>\n",
       "      <th>Neogen</th>\n",
       "      <td>-0.017531</td>\n",
       "      <td>-0.141758</td>\n",
       "      <td>0.156961</td>\n",
       "      <td>-0.205687</td>\n",
       "      <td>0.142023</td>\n",
       "      <td>-0.293983</td>\n",
       "      <td>0.045035</td>\n",
       "      <td>1.000000</td>\n",
       "      <td>-0.201630</td>\n",
       "      <td>-0.261360</td>\n",
       "    </tr>\n",
       "    <tr>\n",
       "      <th>Old Nation</th>\n",
       "      <td>-0.474939</td>\n",
       "      <td>-0.436384</td>\n",
       "      <td>-0.505099</td>\n",
       "      <td>-0.154399</td>\n",
       "      <td>-0.591787</td>\n",
       "      <td>0.681481</td>\n",
       "      <td>-0.052038</td>\n",
       "      <td>-0.201630</td>\n",
       "      <td>1.000000</td>\n",
       "      <td>0.635497</td>\n",
       "    </tr>\n",
       "    <tr>\n",
       "      <th>Qside</th>\n",
       "      <td>-0.494224</td>\n",
       "      <td>-0.557939</td>\n",
       "      <td>-0.659948</td>\n",
       "      <td>-0.202978</td>\n",
       "      <td>-0.548476</td>\n",
       "      <td>0.728218</td>\n",
       "      <td>0.211330</td>\n",
       "      <td>-0.261360</td>\n",
       "      <td>0.635497</td>\n",
       "      <td>1.000000</td>\n",
       "    </tr>\n",
       "  </tbody>\n",
       "</table>\n",
       "</div>"
      ],
      "text/plain": [
       "                  ARFL   Argonne    Boeing  Delta Dental      Ford  \\\n",
       "ARFL          1.000000  0.316525  0.361881      0.243643  0.061635   \n",
       "Argonne       0.316525  1.000000  0.483512      0.063318  0.157784   \n",
       "Boeing        0.361881  0.483512  1.000000     -0.146465  0.183945   \n",
       "Delta Dental  0.243643  0.063318 -0.146465      1.000000  0.042934   \n",
       "Ford          0.061635  0.157784  0.183945      0.042934  1.000000   \n",
       "Hope Village -0.577136 -0.434898 -0.707230     -0.128369 -0.410659   \n",
       "Kellogg's    -0.211970 -0.338808 -0.101455     -0.424887 -0.120666   \n",
       "Neogen       -0.017531 -0.141758  0.156961     -0.205687  0.142023   \n",
       "Old Nation   -0.474939 -0.436384 -0.505099     -0.154399 -0.591787   \n",
       "Qside        -0.494224 -0.557939 -0.659948     -0.202978 -0.548476   \n",
       "\n",
       "              Hope Village  Kellogg's    Neogen  Old Nation     Qside  \n",
       "ARFL             -0.577136  -0.211970 -0.017531   -0.474939 -0.494224  \n",
       "Argonne          -0.434898  -0.338808 -0.141758   -0.436384 -0.557939  \n",
       "Boeing           -0.707230  -0.101455  0.156961   -0.505099 -0.659948  \n",
       "Delta Dental     -0.128369  -0.424887 -0.205687   -0.154399 -0.202978  \n",
       "Ford             -0.410659  -0.120666  0.142023   -0.591787 -0.548476  \n",
       "Hope Village      1.000000  -0.041932 -0.293983    0.681481  0.728218  \n",
       "Kellogg's        -0.041932   1.000000  0.045035   -0.052038  0.211330  \n",
       "Neogen           -0.293983   0.045035  1.000000   -0.201630 -0.261360  \n",
       "Old Nation        0.681481  -0.052038 -0.201630    1.000000  0.635497  \n",
       "Qside             0.728218   0.211330 -0.261360    0.635497  1.000000  "
      ]
     },
     "execution_count": 6,
     "metadata": {},
     "output_type": "execute_result"
    }
   ],
   "source": [
    "corr = dist.corr()\n",
    "corr"
   ]
  },
  {
   "cell_type": "code",
   "execution_count": 7,
   "id": "b3c12dc9",
   "metadata": {},
   "outputs": [],
   "source": [
    "# bad, should change the groupby. Many \"NA\" values\n",
    "summary = dist.groupby(Teams).size().unstack()\n",
    "\n",
    "from scipy.spatial.distance import squareform\n",
    "from scipy.spatial.distance import pdist\n",
    "\n",
    "pairwise = pd.DataFrame(\n",
    "    squareform(pdist(summary)),\n",
    "    columns = summary.index,\n",
    "    index = summary.index)\n",
    "#pairwise"
   ]
  },
  {
   "cell_type": "markdown",
   "id": "0278dd21",
   "metadata": {},
   "source": [
    "## Data Visualization\n",
    "\n",
    "This section make some graphs visualizing your results.  A distance matrix and/or network graph may be cool.  Think though the best way to show what you learned."
   ]
  },
  {
   "cell_type": "markdown",
   "id": "b573f7fd",
   "metadata": {},
   "source": [
    "Here using Seaborn, it isn't isn't a distance matrix but I thought the visualization could be intresting. I was courious if it could just give a quick glance at the general likness of the projects to another. I would not recommend this model.<br>\n",
    "The easist way to understand this visulization is the paler the color, the more similar the two groups are. The Darker the blue/red is is the more differnet they are."
   ]
  },
  {
   "cell_type": "code",
   "execution_count": 8,
   "id": "7e3b414c",
   "metadata": {},
   "outputs": [
    {
     "data": {
      "text/plain": [
       "<AxesSubplot:>"
      ]
     },
     "execution_count": 8,
     "metadata": {},
     "output_type": "execute_result"
    },
    {
     "data": {
      "image/png": "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\n",
      "text/plain": [
       "<Figure size 432x288 with 2 Axes>"
      ]
     },
     "metadata": {
      "needs_background": "light"
     },
     "output_type": "display_data"
    }
   ],
   "source": [
    "mask = np.triu(np.ones_like(corr, dtype=bool))\n",
    "cmap = sns.diverging_palette(230, 20, as_cmap=True)\n",
    "sns.heatmap(corr, mask=mask, cmap=cmap, vmax=.3, center=0,\n",
    "            square=True, linewidths=.5, cbar_kws={\"shrink\": .5})\n",
    "#closer to white is more similar to each other. Stronger color is less similar."
   ]
  },
  {
   "cell_type": "markdown",
   "id": "b9484c6c",
   "metadata": {},
   "source": [
    "## Conclusion\n",
    "\n",
    "This should be similar to the abstract but with more details. What can you conclude about your project from this data?"
   ]
  },
  {
   "cell_type": "markdown",
   "id": "16db2083",
   "metadata": {},
   "source": [
    "## Sources\n",
    "[Pairwise Distance Matrix Tutoral](https://drawingfromdata.com/pandas/clustering/making-a-pairwise-distance-matrix-in-pandas.html)<br>\n",
    "[Seaborn Correlation](https://seaborn.pydata.org/examples/many_pairwise_correlations.html)"
   ]
  },
  {
   "cell_type": "markdown",
   "id": "5d03257a",
   "metadata": {},
   "source": [
    "# Jyotsna's Analysis"
   ]
  },
  {
   "cell_type": "code",
<<<<<<< HEAD
   "execution_count": 9,
=======
   "execution_count": 10,
>>>>>>> main
   "id": "18bdcf45",
   "metadata": {},
   "outputs": [],
   "source": [
    "data = pd.read_csv(\"2022_Project_distance_Matrix.csv\")"
   ]
  },
  {
   "cell_type": "markdown",
   "id": "f7a6b378",
   "metadata": {},
   "source": [
    "## Disagrement \n",
    "\n",
    "The heatmap below shows how much the people on a team agreed or disagreed on which projects were similar to their own. The darker colors mean higher disagreemnent and lighter colors mean lower disagreemnet."
   ]
  },
  {
   "cell_type": "code",
   "execution_count": 10,
   "id": "0b9f8ce8",
   "metadata": {},
   "outputs": [
    {
     "data": {
      "image/png": "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\n",
      "text/plain": [
       "<Figure size 864x720 with 2 Axes>"
      ]
     },
     "metadata": {
      "needs_background": "light"
     },
     "output_type": "display_data"
    }
   ],
   "source": [
    "temp = {}\n",
    "\n",
    "for a in data.columns.values:\n",
    "    df = data[data[a] == 0]\n",
    "    #temp[a] = np.array(df.sum(0)/df.shape[0])\n",
    "    temp[a] = df.std(axis=0)\n",
    "    \n",
    "prob_matrix = pd.DataFrame(temp).T.fillna(0)\n",
    "\n",
    "plt.figure(figsize=(12,10))\n",
    "sns.heatmap(prob_matrix, cmap=\"Blues\")\n",
    "plt.title(\"DISAGREEMENT HEATMAP\", fontsize = 20);\n",
    "plt.xticks(fontsize=12);\n",
    "plt.yticks(fontsize=12, rotation=360);"
   ]
  },
  {
   "cell_type": "markdown",
   "id": "9f5ca20f",
   "metadata": {},
   "source": [
    "# Ishaan's Analysis"
   ]
  },
  {
   "cell_type": "code",
   "execution_count": 12,
   "id": "c8b8b9bb",
   "metadata": {},
   "outputs": [],
   "source": [
    "import numpy as np\n",
    "import scipy as sc\n",
    "from scipy.spatial import distance_matrix\n",
    "import pandas as pd\n",
    "import seaborn as sns\n",
    "import matplotlib as mpl\n",
    "import matplotlib.pyplot as plt\n",
    "from scipy.spatial.distance import pdist\n",
    "from scipy.spatial.distance import squareform"
   ]
  },
  {
   "cell_type": "code",
   "execution_count": 13,
   "id": "a5b8308b",
   "metadata": {},
   "outputs": [
    {
     "data": {
      "text/html": [
       "<div>\n",
       "<style scoped>\n",
       "    .dataframe tbody tr th:only-of-type {\n",
       "        vertical-align: middle;\n",
       "    }\n",
       "\n",
       "    .dataframe tbody tr th {\n",
       "        vertical-align: top;\n",
       "    }\n",
       "\n",
       "    .dataframe thead th {\n",
       "        text-align: right;\n",
       "    }\n",
       "</style>\n",
       "<table border=\"1\" class=\"dataframe\">\n",
       "  <thead>\n",
       "    <tr style=\"text-align: right;\">\n",
       "      <th></th>\n",
       "      <th>ARFL</th>\n",
       "      <th>Argonne</th>\n",
       "      <th>Boeing</th>\n",
       "      <th>Delta Dental</th>\n",
       "      <th>Ford</th>\n",
       "      <th>Hope Village</th>\n",
       "      <th>Kellogg's</th>\n",
       "      <th>Neogen</th>\n",
       "      <th>Old Nation</th>\n",
       "      <th>Qside</th>\n",
       "    </tr>\n",
       "  </thead>\n",
       "  <tbody>\n",
       "    <tr>\n",
       "      <th>1</th>\n",
       "      <td>0</td>\n",
       "      <td>1</td>\n",
       "      <td>3</td>\n",
       "      <td>2</td>\n",
       "      <td>4</td>\n",
       "      <td>8</td>\n",
       "      <td>6</td>\n",
       "      <td>5</td>\n",
       "      <td>7</td>\n",
       "      <td>9</td>\n",
       "    </tr>\n",
       "    <tr>\n",
       "      <th>4</th>\n",
       "      <td>0</td>\n",
       "      <td>2</td>\n",
       "      <td>1</td>\n",
       "      <td>8</td>\n",
       "      <td>7</td>\n",
       "      <td>3</td>\n",
       "      <td>9</td>\n",
       "      <td>6</td>\n",
       "      <td>4</td>\n",
       "      <td>5</td>\n",
       "    </tr>\n",
       "    <tr>\n",
       "      <th>14</th>\n",
       "      <td>0</td>\n",
       "      <td>4</td>\n",
       "      <td>1</td>\n",
       "      <td>7</td>\n",
       "      <td>2</td>\n",
       "      <td>8</td>\n",
       "      <td>5</td>\n",
       "      <td>3</td>\n",
       "      <td>6</td>\n",
       "      <td>9</td>\n",
       "    </tr>\n",
       "    <tr>\n",
       "      <th>18</th>\n",
       "      <td>0</td>\n",
       "      <td>5</td>\n",
       "      <td>9</td>\n",
       "      <td>2</td>\n",
       "      <td>1</td>\n",
       "      <td>3</td>\n",
       "      <td>8</td>\n",
       "      <td>4</td>\n",
       "      <td>7</td>\n",
       "      <td>6</td>\n",
       "    </tr>\n",
       "    <tr>\n",
       "      <th>22</th>\n",
       "      <td>0</td>\n",
       "      <td>3</td>\n",
       "      <td>1</td>\n",
       "      <td>7</td>\n",
       "      <td>6</td>\n",
       "      <td>9</td>\n",
       "      <td>5</td>\n",
       "      <td>2</td>\n",
       "      <td>4</td>\n",
       "      <td>8</td>\n",
       "    </tr>\n",
       "  </tbody>\n",
       "</table>\n",
       "</div>"
      ],
      "text/plain": [
       "    ARFL  Argonne  Boeing  Delta Dental  Ford  Hope Village  Kellogg's  \\\n",
       "1      0        1       3             2     4             8          6   \n",
       "4      0        2       1             8     7             3          9   \n",
       "14     0        4       1             7     2             8          5   \n",
       "18     0        5       9             2     1             3          8   \n",
       "22     0        3       1             7     6             9          5   \n",
       "\n",
       "    Neogen  Old Nation  Qside  \n",
       "1        5           7      9  \n",
       "4        6           4      5  \n",
       "14       3           6      9  \n",
       "18       4           7      6  \n",
       "22       2           4      8  "
      ]
     },
     "execution_count": 13,
     "metadata": {},
     "output_type": "execute_result"
    }
   ],
   "source": [
    "data = pd.read_csv('2022_Project_distance_Matrix.csv')\n",
    "ARFL = data[data['ARFL'] == 0]\n",
    "ARFL"
   ]
  },
  {
   "cell_type": "code",
   "execution_count": 14,
   "id": "e22dd80a",
   "metadata": {},
   "outputs": [],
   "source": [
    "team_wise_data = pd.DataFrame(data=[], columns=data.columns)\n",
    "for i in data.columns:\n",
    "    temp_team = data[data[i] == 0]\n",
    "    team_wise_data = pd.concat([team_wise_data, temp_team])"
   ]
  },
  {
   "cell_type": "code",
   "execution_count": 15,
   "id": "198d04ec",
   "metadata": {},
   "outputs": [
    {
     "data": {
      "text/html": [
       "<div>\n",
       "<style scoped>\n",
       "    .dataframe tbody tr th:only-of-type {\n",
       "        vertical-align: middle;\n",
       "    }\n",
       "\n",
       "    .dataframe tbody tr th {\n",
       "        vertical-align: top;\n",
       "    }\n",
       "\n",
       "    .dataframe thead th {\n",
       "        text-align: right;\n",
       "    }\n",
       "</style>\n",
       "<table border=\"1\" class=\"dataframe\">\n",
       "  <thead>\n",
       "    <tr style=\"text-align: right;\">\n",
       "      <th></th>\n",
       "      <th>ARFL</th>\n",
       "      <th>Argonne</th>\n",
       "      <th>Boeing</th>\n",
       "      <th>Delta Dental</th>\n",
       "      <th>Ford</th>\n",
       "      <th>Hope Village</th>\n",
       "      <th>Kellogg's</th>\n",
       "      <th>Neogen</th>\n",
       "      <th>Old Nation</th>\n",
       "      <th>Qside</th>\n",
       "    </tr>\n",
       "  </thead>\n",
       "  <tbody>\n",
       "    <tr>\n",
       "      <th>1</th>\n",
       "      <td>0</td>\n",
       "      <td>1</td>\n",
       "      <td>3</td>\n",
       "      <td>2</td>\n",
       "      <td>4</td>\n",
       "      <td>8</td>\n",
       "      <td>6</td>\n",
       "      <td>5</td>\n",
       "      <td>7</td>\n",
       "      <td>9</td>\n",
       "    </tr>\n",
       "    <tr>\n",
       "      <th>4</th>\n",
       "      <td>0</td>\n",
       "      <td>2</td>\n",
       "      <td>1</td>\n",
       "      <td>8</td>\n",
       "      <td>7</td>\n",
       "      <td>3</td>\n",
       "      <td>9</td>\n",
       "      <td>6</td>\n",
       "      <td>4</td>\n",
       "      <td>5</td>\n",
       "    </tr>\n",
       "    <tr>\n",
       "      <th>14</th>\n",
       "      <td>0</td>\n",
       "      <td>4</td>\n",
       "      <td>1</td>\n",
       "      <td>7</td>\n",
       "      <td>2</td>\n",
       "      <td>8</td>\n",
       "      <td>5</td>\n",
       "      <td>3</td>\n",
       "      <td>6</td>\n",
       "      <td>9</td>\n",
       "    </tr>\n",
       "    <tr>\n",
       "      <th>18</th>\n",
       "      <td>0</td>\n",
       "      <td>5</td>\n",
       "      <td>9</td>\n",
       "      <td>2</td>\n",
       "      <td>1</td>\n",
       "      <td>3</td>\n",
       "      <td>8</td>\n",
       "      <td>4</td>\n",
       "      <td>7</td>\n",
       "      <td>6</td>\n",
       "    </tr>\n",
       "    <tr>\n",
       "      <th>22</th>\n",
       "      <td>0</td>\n",
       "      <td>3</td>\n",
       "      <td>1</td>\n",
       "      <td>7</td>\n",
       "      <td>6</td>\n",
       "      <td>9</td>\n",
       "      <td>5</td>\n",
       "      <td>2</td>\n",
       "      <td>4</td>\n",
       "      <td>8</td>\n",
       "    </tr>\n",
       "  </tbody>\n",
       "</table>\n",
       "</div>"
      ],
      "text/plain": [
       "   ARFL Argonne Boeing Delta Dental Ford Hope Village Kellogg's Neogen  \\\n",
       "1     0       1      3            2    4            8         6      5   \n",
       "4     0       2      1            8    7            3         9      6   \n",
       "14    0       4      1            7    2            8         5      3   \n",
       "18    0       5      9            2    1            3         8      4   \n",
       "22    0       3      1            7    6            9         5      2   \n",
       "\n",
       "   Old Nation Qside  \n",
       "1           7     9  \n",
       "4           4     5  \n",
       "14          6     9  \n",
       "18          7     6  \n",
       "22          4     8  "
      ]
     },
     "execution_count": 15,
     "metadata": {},
     "output_type": "execute_result"
    }
   ],
   "source": [
    "team_wise_data.head()"
   ]
  },
  {
   "cell_type": "code",
   "execution_count": 16,
   "id": "84973391",
   "metadata": {},
   "outputs": [
    {
     "data": {
      "text/plain": [
       "<AxesSubplot:>"
      ]
     },
     "execution_count": 16,
     "metadata": {},
     "output_type": "execute_result"
    },
    {
     "data": {
      "image/png": "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\n",
      "text/plain": [
       "<Figure size 1080x1080 with 2 Axes>"
      ]
     },
     "metadata": {
      "needs_background": "light"
     },
     "output_type": "display_data"
    }
   ],
   "source": [
    "pairwise_top = pd.DataFrame(squareform(pdist(team_wise_data, metric='cosine')),\n",
    "                            columns = team_wise_data.index,\n",
    "                            index = team_wise_data.index)\n",
    "\n",
    "plt.figure(figsize=(15,15))\n",
    "sns.heatmap(pairwise_top, cmap='OrRd', linewidth=1)"
   ]
  },
  {
   "cell_type": "markdown",
   "id": "04246fdf",
   "metadata": {},
   "source": [
    "# Nick's Analysis"
   ]
  },
  {
   "cell_type": "code",
   "execution_count": 15,
   "id": "17475904",
   "metadata": {},
   "outputs": [],
   "source": [
    "import pandas as pd \n",
    "import numpy as np\n",
    "from scipy.spatial import distance_matrix\n",
    "import sympy as sym\n",
    "import seaborn as sns\n",
    "import matplotlib.pyplot as plt"
   ]
  },
  {
   "cell_type": "code",
   "execution_count": 8,
   "id": "e0788733",
   "metadata": {},
   "outputs": [
    {
     "data": {
      "text/html": [
       "<div>\n",
       "<style scoped>\n",
       "    .dataframe tbody tr th:only-of-type {\n",
       "        vertical-align: middle;\n",
       "    }\n",
       "\n",
       "    .dataframe tbody tr th {\n",
       "        vertical-align: top;\n",
       "    }\n",
       "\n",
       "    .dataframe thead th {\n",
       "        text-align: right;\n",
       "    }\n",
       "</style>\n",
       "<table border=\"1\" class=\"dataframe\">\n",
       "  <thead>\n",
       "    <tr style=\"text-align: right;\">\n",
       "      <th></th>\n",
       "      <th>ARFL</th>\n",
       "      <th>Argonne</th>\n",
       "      <th>Boeing</th>\n",
       "      <th>Delta Dental</th>\n",
       "      <th>Ford</th>\n",
       "      <th>Hope Village</th>\n",
       "      <th>Kellogg's</th>\n",
       "      <th>Neogen</th>\n",
       "      <th>Old Nation</th>\n",
       "      <th>Qside</th>\n",
       "    </tr>\n",
       "  </thead>\n",
       "  <tbody>\n",
       "    <tr>\n",
       "      <th>0</th>\n",
       "      <td>7</td>\n",
       "      <td>4</td>\n",
       "      <td>9</td>\n",
       "      <td>8</td>\n",
       "      <td>3</td>\n",
       "      <td>0</td>\n",
       "      <td>6</td>\n",
       "      <td>2</td>\n",
       "      <td>5</td>\n",
       "      <td>1</td>\n",
       "    </tr>\n",
       "    <tr>\n",
       "      <th>1</th>\n",
       "      <td>0</td>\n",
       "      <td>1</td>\n",
       "      <td>3</td>\n",
       "      <td>2</td>\n",
       "      <td>4</td>\n",
       "      <td>8</td>\n",
       "      <td>6</td>\n",
       "      <td>5</td>\n",
       "      <td>7</td>\n",
       "      <td>9</td>\n",
       "    </tr>\n",
       "    <tr>\n",
       "      <th>2</th>\n",
       "      <td>3</td>\n",
       "      <td>2</td>\n",
       "      <td>1</td>\n",
       "      <td>6</td>\n",
       "      <td>0</td>\n",
       "      <td>8</td>\n",
       "      <td>5</td>\n",
       "      <td>4</td>\n",
       "      <td>7</td>\n",
       "      <td>9</td>\n",
       "    </tr>\n",
       "    <tr>\n",
       "      <th>3</th>\n",
       "      <td>8</td>\n",
       "      <td>7</td>\n",
       "      <td>3</td>\n",
       "      <td>9</td>\n",
       "      <td>4</td>\n",
       "      <td>5</td>\n",
       "      <td>0</td>\n",
       "      <td>6</td>\n",
       "      <td>1</td>\n",
       "      <td>2</td>\n",
       "    </tr>\n",
       "    <tr>\n",
       "      <th>4</th>\n",
       "      <td>0</td>\n",
       "      <td>2</td>\n",
       "      <td>1</td>\n",
       "      <td>8</td>\n",
       "      <td>7</td>\n",
       "      <td>3</td>\n",
       "      <td>9</td>\n",
       "      <td>6</td>\n",
       "      <td>4</td>\n",
       "      <td>5</td>\n",
       "    </tr>\n",
       "  </tbody>\n",
       "</table>\n",
       "</div>"
      ],
      "text/plain": [
       "   ARFL  Argonne  Boeing  Delta Dental  Ford  Hope Village  Kellogg's  Neogen  \\\n",
       "0     7        4       9             8     3             0          6       2   \n",
       "1     0        1       3             2     4             8          6       5   \n",
       "2     3        2       1             6     0             8          5       4   \n",
       "3     8        7       3             9     4             5          0       6   \n",
       "4     0        2       1             8     7             3          9       6   \n",
       "\n",
       "   Old Nation  Qside  \n",
       "0           5      1  \n",
       "1           7      9  \n",
       "2           7      9  \n",
       "3           1      2  \n",
       "4           4      5  "
      ]
     },
     "execution_count": 8,
     "metadata": {},
     "output_type": "execute_result"
    }
   ],
   "source": [
    "data = pd.read_csv('2022_Project_distance_Matrix.csv',header='infer')\n",
    "data.head()"
   ]
  },
  {
   "cell_type": "code",
   "execution_count": 33,
   "id": "dcca730f",
   "metadata": {},
   "outputs": [
    {
     "data": {
      "image/png": "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\n",
      "text/plain": [
       "<Figure size 1080x1080 with 2 Axes>"
      ]
     },
     "metadata": {
      "needs_background": "light"
     },
     "output_type": "display_data"
    }
   ],
   "source": [
    "dist_mat = distance_matrix(data.T,data.T,p=2)\n",
    "fig, ax = plt.subplots(figsize = (15,15))\n",
    "ax = sns.heatmap(dist_mat,annot=True)"
   ]
  },
  {
   "cell_type": "code",
   "execution_count": 37,
   "id": "07c3beec",
   "metadata": {},
   "outputs": [
    {
     "data": {
      "text/plain": [
       "array([[ 656,  567,  628,  785,  679,  465,  717,  500,  406,  447],\n",
       "       [ 567,  791,  740,  848,  805,  598,  798,  550,  493,  515],\n",
       "       [ 628,  740, 1024,  825,  868,  485,  890,  644,  460,  456],\n",
       "       [ 785,  848,  825, 1476, 1121, 1017, 1177,  802,  841,  918],\n",
       "       [ 679,  805,  868, 1121, 1432,  797, 1131,  804,  594,  679],\n",
       "       [ 465,  598,  485, 1017,  797, 1283, 1106,  660,  988, 1106],\n",
       "       [ 717,  798,  890, 1177, 1131, 1106, 1649,  904,  921, 1102],\n",
       "       [ 500,  550,  644,  802,  804,  660,  904,  747,  568,  616],\n",
       "       [ 406,  493,  460,  841,  594,  988,  921,  568,  930,  909],\n",
       "       [ 447,  515,  456,  918,  679, 1106, 1102,  616,  909, 1127]],\n",
       "      dtype=int64)"
      ]
     },
     "execution_count": 37,
     "metadata": {},
     "output_type": "execute_result"
    }
   ],
   "source": [
    "np.dot(data.T,data)"
   ]
  }
 ],
 "metadata": {
  "kernelspec": {
   "display_name": "Python 3 (ipykernel)",
   "language": "python",
   "name": "python3"
  },
  "language_info": {
   "codemirror_mode": {
    "name": "ipython",
    "version": 3
   },
   "file_extension": ".py",
   "mimetype": "text/x-python",
   "name": "python",
   "nbconvert_exporter": "python",
   "pygments_lexer": "ipython3",
   "version": "3.9.7"
  }
 },
 "nbformat": 4,
 "nbformat_minor": 5
}
