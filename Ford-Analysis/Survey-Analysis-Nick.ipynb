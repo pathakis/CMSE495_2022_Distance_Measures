{
 "cells": [
  {
   "cell_type": "markdown",
   "id": "ba3d79a5",
   "metadata": {},
   "source": [
    "# Report Title\n",
    "### Team Ford"
   ]
  },
  {
   "cell_type": "code",
   "execution_count": 15,
   "id": "17475904",
   "metadata": {},
   "outputs": [],
   "source": [
    "import pandas as pd \n",
    "import numpy as np\n",
    "from scipy.spatial import distance_matrix\n",
    "import sympy as sym\n",
    "import seaborn as sns\n",
    "import matplotlib.pyplot as plt"
   ]
  },
  {
   "cell_type": "markdown",
   "id": "3c232789",
   "metadata": {},
   "source": [
    "## Abstract\n",
    "Short summary about the data and what it tells you about your project. "
   ]
  },
  {
   "cell_type": "markdown",
   "id": "1585bdc5",
   "metadata": {},
   "source": [
    "## Data input\n",
    "In this section include code that reads in the csv file"
   ]
  },
  {
   "cell_type": "code",
   "execution_count": 8,
   "id": "e0788733",
   "metadata": {},
   "outputs": [
    {
     "data": {
      "text/html": [
       "<div>\n",
       "<style scoped>\n",
       "    .dataframe tbody tr th:only-of-type {\n",
       "        vertical-align: middle;\n",
       "    }\n",
       "\n",
       "    .dataframe tbody tr th {\n",
       "        vertical-align: top;\n",
       "    }\n",
       "\n",
       "    .dataframe thead th {\n",
       "        text-align: right;\n",
       "    }\n",
       "</style>\n",
       "<table border=\"1\" class=\"dataframe\">\n",
       "  <thead>\n",
       "    <tr style=\"text-align: right;\">\n",
       "      <th></th>\n",
       "      <th>ARFL</th>\n",
       "      <th>Argonne</th>\n",
       "      <th>Boeing</th>\n",
       "      <th>Delta Dental</th>\n",
       "      <th>Ford</th>\n",
       "      <th>Hope Village</th>\n",
       "      <th>Kellogg's</th>\n",
       "      <th>Neogen</th>\n",
       "      <th>Old Nation</th>\n",
       "      <th>Qside</th>\n",
       "    </tr>\n",
       "  </thead>\n",
       "  <tbody>\n",
       "    <tr>\n",
       "      <th>0</th>\n",
       "      <td>7</td>\n",
       "      <td>4</td>\n",
       "      <td>9</td>\n",
       "      <td>8</td>\n",
       "      <td>3</td>\n",
       "      <td>0</td>\n",
       "      <td>6</td>\n",
       "      <td>2</td>\n",
       "      <td>5</td>\n",
       "      <td>1</td>\n",
       "    </tr>\n",
       "    <tr>\n",
       "      <th>1</th>\n",
       "      <td>0</td>\n",
       "      <td>1</td>\n",
       "      <td>3</td>\n",
       "      <td>2</td>\n",
       "      <td>4</td>\n",
       "      <td>8</td>\n",
       "      <td>6</td>\n",
       "      <td>5</td>\n",
       "      <td>7</td>\n",
       "      <td>9</td>\n",
       "    </tr>\n",
       "    <tr>\n",
       "      <th>2</th>\n",
       "      <td>3</td>\n",
       "      <td>2</td>\n",
       "      <td>1</td>\n",
       "      <td>6</td>\n",
       "      <td>0</td>\n",
       "      <td>8</td>\n",
       "      <td>5</td>\n",
       "      <td>4</td>\n",
       "      <td>7</td>\n",
       "      <td>9</td>\n",
       "    </tr>\n",
       "    <tr>\n",
       "      <th>3</th>\n",
       "      <td>8</td>\n",
       "      <td>7</td>\n",
       "      <td>3</td>\n",
       "      <td>9</td>\n",
       "      <td>4</td>\n",
       "      <td>5</td>\n",
       "      <td>0</td>\n",
       "      <td>6</td>\n",
       "      <td>1</td>\n",
       "      <td>2</td>\n",
       "    </tr>\n",
       "    <tr>\n",
       "      <th>4</th>\n",
       "      <td>0</td>\n",
       "      <td>2</td>\n",
       "      <td>1</td>\n",
       "      <td>8</td>\n",
       "      <td>7</td>\n",
       "      <td>3</td>\n",
       "      <td>9</td>\n",
       "      <td>6</td>\n",
       "      <td>4</td>\n",
       "      <td>5</td>\n",
       "    </tr>\n",
       "  </tbody>\n",
       "</table>\n",
       "</div>"
      ],
      "text/plain": [
       "   ARFL  Argonne  Boeing  Delta Dental  Ford  Hope Village  Kellogg's  Neogen  \\\n",
       "0     7        4       9             8     3             0          6       2   \n",
       "1     0        1       3             2     4             8          6       5   \n",
       "2     3        2       1             6     0             8          5       4   \n",
       "3     8        7       3             9     4             5          0       6   \n",
       "4     0        2       1             8     7             3          9       6   \n",
       "\n",
       "   Old Nation  Qside  \n",
       "0           5      1  \n",
       "1           7      9  \n",
       "2           7      9  \n",
       "3           1      2  \n",
       "4           4      5  "
      ]
     },
     "execution_count": 8,
     "metadata": {},
     "output_type": "execute_result"
    }
   ],
   "source": [
    "data = pd.read_csv('2022_Project_distance_Matrix.csv',header='infer')\n",
    "data.head()"
   ]
  },
  {
   "cell_type": "markdown",
   "id": "6f3ed646",
   "metadata": {},
   "source": [
    "## Data Cleaning\n",
    "In this section provide code for converting the raw data into clean and usable data structures (if needed)"
   ]
  },
  {
   "cell_type": "markdown",
   "id": "cb7fdf95",
   "metadata": {},
   "source": [
    "## Data Modeling\n",
    "\n",
    "This section that builds a model.  This doesn't have to be all that advanced. You should probably start with some simple statistical models such as an average distance matrix."
   ]
  },
  {
   "cell_type": "code",
   "execution_count": 33,
   "id": "dcca730f",
   "metadata": {},
   "outputs": [
    {
     "data": {
      "image/png": "[encoded data removed]",
      "text/plain": [
       "<Figure size 1080x1080 with 2 Axes>"
      ]
     },
     "metadata": {
      "needs_background": "light"
     },
     "output_type": "display_data"
    }
   ],
   "source": [
    "dist_mat = distance_matrix(data.T,data.T,p=2)\n",
    "fig, ax = plt.subplots(figsize = (15,15))\n",
    "ax = sns.heatmap(dist_mat,annot=True)"
   ]
  },
  {
   "cell_type": "code",
   "execution_count": 37,
   "id": "07c3beec",
   "metadata": {},
   "outputs": [
    {
     "data": {
      "text/plain": [
       "array([[ 656,  567,  628,  785,  679,  465,  717,  500,  406,  447],\n",
       "       [ 567,  791,  740,  848,  805,  598,  798,  550,  493,  515],\n",
       "       [ 628,  740, 1024,  825,  868,  485,  890,  644,  460,  456],\n",
       "       [ 785,  848,  825, 1476, 1121, 1017, 1177,  802,  841,  918],\n",
       "       [ 679,  805,  868, 1121, 1432,  797, 1131,  804,  594,  679],\n",
       "       [ 465,  598,  485, 1017,  797, 1283, 1106,  660,  988, 1106],\n",
       "       [ 717,  798,  890, 1177, 1131, 1106, 1649,  904,  921, 1102],\n",
       "       [ 500,  550,  644,  802,  804,  660,  904,  747,  568,  616],\n",
       "       [ 406,  493,  460,  841,  594,  988,  921,  568,  930,  909],\n",
       "       [ 447,  515,  456,  918,  679, 1106, 1102,  616,  909, 1127]],\n",
       "      dtype=int64)"
      ]
     },
     "execution_count": 37,
     "metadata": {},
     "output_type": "execute_result"
    }
   ],
   "source": [
    "np.dot(data.T,data)"
   ]
  },
  {
   "cell_type": "markdown",
   "id": "0278dd21",
   "metadata": {},
   "source": [
    "## Data Visualization\n",
    "\n",
    "This section make some graphs visualizing your results.  A distance matrix and/or network graph may be cool.  Think though the best way to show what you learned."
   ]
  },
  {
   "cell_type": "markdown",
   "id": "b9484c6c",
   "metadata": {},
   "source": [
    "## Conclusion\n",
    "\n",
    "This should be similar to the abstract but with more details. What can you conclude about your project from this data?"
   ]
  }
 ],
 "metadata": {
  "kernelspec": {
   "display_name": "Python 3 (ipykernel)",
   "language": "python",
   "name": "python3"
  },
  "language_info": {
   "codemirror_mode": {
    "name": "ipython",
    "version": 3
   },
   "file_extension": ".py",
   "mimetype": "text/x-python",
   "name": "python",
   "nbconvert_exporter": "python",
   "pygments_lexer": "ipython3",
   "version": "3.9.7"
  }
 },
 "nbformat": 4,
 "nbformat_minor": 5
}
