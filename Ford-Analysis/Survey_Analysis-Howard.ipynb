{
 "cells": [
  {
   "cell_type": "markdown",
   "id": "ba3d79a5",
   "metadata": {},
   "source": [
    "# Survey Analysis Report\n",
    "### Team Ford\n",
    "Samantha Howard"
   ]
  },
  {
   "cell_type": "markdown",
   "id": "3c232789",
   "metadata": {},
   "source": [
    "## Abstract\n",
    "Short summary about the data and what it tells you about your project. "
   ]
  },
  {
   "cell_type": "markdown",
   "id": "1585bdc5",
   "metadata": {},
   "source": [
    "## Data input\n",
    "In this section include code that reads in the csv file"
   ]
  },
  {
   "cell_type": "code",
   "execution_count": 47,
   "id": "e8756be9",
   "metadata": {},
   "outputs": [],
   "source": [
    "import matplotlib.pyplot as plt\n",
    "import pandas as pd\n",
    "import numpy as np\n",
    "import seaborn as sns"
   ]
  },
  {
   "cell_type": "code",
   "execution_count": 48,
   "id": "ab48408a",
   "metadata": {},
   "outputs": [
    {
     "data": {
      "text/html": [
       "<div>\n",
       "<style scoped>\n",
       "    .dataframe tbody tr th:only-of-type {\n",
       "        vertical-align: middle;\n",
       "    }\n",
       "\n",
       "    .dataframe tbody tr th {\n",
       "        vertical-align: top;\n",
       "    }\n",
       "\n",
       "    .dataframe thead th {\n",
       "        text-align: right;\n",
       "    }\n",
       "</style>\n",
       "<table border=\"1\" class=\"dataframe\">\n",
       "  <thead>\n",
       "    <tr style=\"text-align: right;\">\n",
       "      <th></th>\n",
       "      <th>ARFL</th>\n",
       "      <th>Argonne</th>\n",
       "      <th>Boeing</th>\n",
       "      <th>Delta Dental</th>\n",
       "      <th>Ford</th>\n",
       "      <th>Hope Village</th>\n",
       "      <th>Kellogg's</th>\n",
       "      <th>Neogen</th>\n",
       "      <th>Old Nation</th>\n",
       "      <th>Qside</th>\n",
       "    </tr>\n",
       "  </thead>\n",
       "  <tbody>\n",
       "    <tr>\n",
       "      <th>0</th>\n",
       "      <td>7</td>\n",
       "      <td>4</td>\n",
       "      <td>9</td>\n",
       "      <td>8</td>\n",
       "      <td>3</td>\n",
       "      <td>0</td>\n",
       "      <td>6</td>\n",
       "      <td>2</td>\n",
       "      <td>5</td>\n",
       "      <td>1</td>\n",
       "    </tr>\n",
       "    <tr>\n",
       "      <th>1</th>\n",
       "      <td>0</td>\n",
       "      <td>1</td>\n",
       "      <td>3</td>\n",
       "      <td>2</td>\n",
       "      <td>4</td>\n",
       "      <td>8</td>\n",
       "      <td>6</td>\n",
       "      <td>5</td>\n",
       "      <td>7</td>\n",
       "      <td>9</td>\n",
       "    </tr>\n",
       "    <tr>\n",
       "      <th>2</th>\n",
       "      <td>3</td>\n",
       "      <td>2</td>\n",
       "      <td>1</td>\n",
       "      <td>6</td>\n",
       "      <td>0</td>\n",
       "      <td>8</td>\n",
       "      <td>5</td>\n",
       "      <td>4</td>\n",
       "      <td>7</td>\n",
       "      <td>9</td>\n",
       "    </tr>\n",
       "    <tr>\n",
       "      <th>3</th>\n",
       "      <td>8</td>\n",
       "      <td>7</td>\n",
       "      <td>3</td>\n",
       "      <td>9</td>\n",
       "      <td>4</td>\n",
       "      <td>5</td>\n",
       "      <td>0</td>\n",
       "      <td>6</td>\n",
       "      <td>1</td>\n",
       "      <td>2</td>\n",
       "    </tr>\n",
       "    <tr>\n",
       "      <th>4</th>\n",
       "      <td>0</td>\n",
       "      <td>2</td>\n",
       "      <td>1</td>\n",
       "      <td>8</td>\n",
       "      <td>7</td>\n",
       "      <td>3</td>\n",
       "      <td>9</td>\n",
       "      <td>6</td>\n",
       "      <td>4</td>\n",
       "      <td>5</td>\n",
       "    </tr>\n",
       "  </tbody>\n",
       "</table>\n",
       "</div>"
      ],
      "text/plain": [
       "   ARFL  Argonne  Boeing  Delta Dental  Ford  Hope Village  Kellogg's  Neogen  \\\n",
       "0     7        4       9             8     3             0          6       2   \n",
       "1     0        1       3             2     4             8          6       5   \n",
       "2     3        2       1             6     0             8          5       4   \n",
       "3     8        7       3             9     4             5          0       6   \n",
       "4     0        2       1             8     7             3          9       6   \n",
       "\n",
       "   Old Nation  Qside  \n",
       "0           5      1  \n",
       "1           7      9  \n",
       "2           7      9  \n",
       "3           1      2  \n",
       "4           4      5  "
      ]
     },
     "execution_count": 48,
     "metadata": {},
     "output_type": "execute_result"
    }
   ],
   "source": [
    "dist = pd.read_csv(\"2022_Project_distance_Matrix.csv\")\n",
    "dist.head()"
   ]
  },
  {
   "cell_type": "code",
   "execution_count": 60,
   "id": "cf5500f6",
   "metadata": {},
   "outputs": [],
   "source": [
    "# Team List\n",
    "Teams =[\"ARFL\",\"Argonne\",\"Boeing\",\"Delta Dental\",\"Ford\",\"Hope Village\",\"Kellogg's\",\"Neogen\",\"Old Nation\",\"Qside\"]\n",
    "\n",
    "# Broken up by team\n",
    "#team = dist[dist['team'] == 0]\n",
    "ARFL = dist[dist['ARFL'] == 0]\n",
    "Argonne = dist[dist['Argonne'] == 0]\n",
    "\n",
    "Boeing = dist[dist['Boeing'] == 0]\n",
    "Delta = dist[dist['Delta Dental'] == 0]\n",
    "\n",
    "Ford = dist[dist['Ford'] == 0] #6 members\n",
    "Hope = dist[dist['Hope Village'] == 0]\n",
    "\n",
    "Kellogg = dist[dist[\"Kellogg's\"] == 0]\n",
    "Neogen = dist[dist['Neogen'] == 0]\n",
    "\n",
    "Old = dist[dist['Old Nation'] == 0]\n",
    "Qside = dist[dist['Qside'] == 0] #2 members"
   ]
  },
  {
   "cell_type": "markdown",
   "id": "6f3ed646",
   "metadata": {},
   "source": [
    "## Data Cleaning\n",
    "In this section provide code for converting the raw data into clean and usable data structures (if needed)"
   ]
  },
  {
   "cell_type": "markdown",
   "id": "9facf153",
   "metadata": {},
   "source": [
    "While there is no NA values there is a potental error in the collection of the data. As the team Qside had 2 entries, and Team ford had 6. And these are not the correct number of members for either."
   ]
  },
  {
   "cell_type": "code",
   "execution_count": 8,
   "id": "712a7a12",
   "metadata": {},
   "outputs": [
    {
     "data": {
      "text/plain": [
       "ARFL            0\n",
       "Argonne         0\n",
       "Boeing          0\n",
       "Delta Dental    0\n",
       "Ford            0\n",
       "Hope Village    0\n",
       "Kellogg's       0\n",
       "Neogen          0\n",
       "Old Nation      0\n",
       "Qside           0\n",
       "dtype: int64"
      ]
     },
     "execution_count": 8,
     "metadata": {},
     "output_type": "execute_result"
    }
   ],
   "source": [
    "#no missing entries\n",
    "dist.isna().sum()"
   ]
  },
  {
   "cell_type": "markdown",
   "id": "cb7fdf95",
   "metadata": {},
   "source": [
    "## Data Modeling"
   ]
  },
  {
   "cell_type": "code",
   "execution_count": 15,
   "id": "7703794d",
   "metadata": {},
   "outputs": [
    {
     "data": {
      "text/html": [
       "<div>\n",
       "<style scoped>\n",
       "    .dataframe tbody tr th:only-of-type {\n",
       "        vertical-align: middle;\n",
       "    }\n",
       "\n",
       "    .dataframe tbody tr th {\n",
       "        vertical-align: top;\n",
       "    }\n",
       "\n",
       "    .dataframe thead th {\n",
       "        text-align: right;\n",
       "    }\n",
       "</style>\n",
       "<table border=\"1\" class=\"dataframe\">\n",
       "  <thead>\n",
       "    <tr style=\"text-align: right;\">\n",
       "      <th></th>\n",
       "      <th>ARFL</th>\n",
       "      <th>Argonne</th>\n",
       "      <th>Boeing</th>\n",
       "      <th>Delta Dental</th>\n",
       "      <th>Ford</th>\n",
       "      <th>Hope Village</th>\n",
       "      <th>Kellogg's</th>\n",
       "      <th>Neogen</th>\n",
       "      <th>Old Nation</th>\n",
       "      <th>Qside</th>\n",
       "    </tr>\n",
       "  </thead>\n",
       "  <tbody>\n",
       "    <tr>\n",
       "      <th>ARFL</th>\n",
       "      <td>1.000000</td>\n",
       "      <td>0.316525</td>\n",
       "      <td>0.361881</td>\n",
       "      <td>0.243643</td>\n",
       "      <td>0.061635</td>\n",
       "      <td>-0.577136</td>\n",
       "      <td>-0.211970</td>\n",
       "      <td>-0.017531</td>\n",
       "      <td>-0.474939</td>\n",
       "      <td>-0.494224</td>\n",
       "    </tr>\n",
       "    <tr>\n",
       "      <th>Argonne</th>\n",
       "      <td>0.316525</td>\n",
       "      <td>1.000000</td>\n",
       "      <td>0.483512</td>\n",
       "      <td>0.063318</td>\n",
       "      <td>0.157784</td>\n",
       "      <td>-0.434898</td>\n",
       "      <td>-0.338808</td>\n",
       "      <td>-0.141758</td>\n",
       "      <td>-0.436384</td>\n",
       "      <td>-0.557939</td>\n",
       "    </tr>\n",
       "    <tr>\n",
       "      <th>Boeing</th>\n",
       "      <td>0.361881</td>\n",
       "      <td>0.483512</td>\n",
       "      <td>1.000000</td>\n",
       "      <td>-0.146465</td>\n",
       "      <td>0.183945</td>\n",
       "      <td>-0.707230</td>\n",
       "      <td>-0.101455</td>\n",
       "      <td>0.156961</td>\n",
       "      <td>-0.505099</td>\n",
       "      <td>-0.659948</td>\n",
       "    </tr>\n",
       "    <tr>\n",
       "      <th>Delta Dental</th>\n",
       "      <td>0.243643</td>\n",
       "      <td>0.063318</td>\n",
       "      <td>-0.146465</td>\n",
       "      <td>1.000000</td>\n",
       "      <td>0.042934</td>\n",
       "      <td>-0.128369</td>\n",
       "      <td>-0.424887</td>\n",
       "      <td>-0.205687</td>\n",
       "      <td>-0.154399</td>\n",
       "      <td>-0.202978</td>\n",
       "    </tr>\n",
       "    <tr>\n",
       "      <th>Ford</th>\n",
       "      <td>0.061635</td>\n",
       "      <td>0.157784</td>\n",
       "      <td>0.183945</td>\n",
       "      <td>0.042934</td>\n",
       "      <td>1.000000</td>\n",
       "      <td>-0.410659</td>\n",
       "      <td>-0.120666</td>\n",
       "      <td>0.142023</td>\n",
       "      <td>-0.591787</td>\n",
       "      <td>-0.548476</td>\n",
       "    </tr>\n",
       "    <tr>\n",
       "      <th>Hope Village</th>\n",
       "      <td>-0.577136</td>\n",
       "      <td>-0.434898</td>\n",
       "      <td>-0.707230</td>\n",
       "      <td>-0.128369</td>\n",
       "      <td>-0.410659</td>\n",
       "      <td>1.000000</td>\n",
       "      <td>-0.041932</td>\n",
       "      <td>-0.293983</td>\n",
       "      <td>0.681481</td>\n",
       "      <td>0.728218</td>\n",
       "    </tr>\n",
       "    <tr>\n",
       "      <th>Kellogg's</th>\n",
       "      <td>-0.211970</td>\n",
       "      <td>-0.338808</td>\n",
       "      <td>-0.101455</td>\n",
       "      <td>-0.424887</td>\n",
       "      <td>-0.120666</td>\n",
       "      <td>-0.041932</td>\n",
       "      <td>1.000000</td>\n",
       "      <td>0.045035</td>\n",
       "      <td>-0.052038</td>\n",
       "      <td>0.211330</td>\n",
       "    </tr>\n",
       "    <tr>\n",
       "      <th>Neogen</th>\n",
       "      <td>-0.017531</td>\n",
       "      <td>-0.141758</td>\n",
       "      <td>0.156961</td>\n",
       "      <td>-0.205687</td>\n",
       "      <td>0.142023</td>\n",
       "      <td>-0.293983</td>\n",
       "      <td>0.045035</td>\n",
       "      <td>1.000000</td>\n",
       "      <td>-0.201630</td>\n",
       "      <td>-0.261360</td>\n",
       "    </tr>\n",
       "    <tr>\n",
       "      <th>Old Nation</th>\n",
       "      <td>-0.474939</td>\n",
       "      <td>-0.436384</td>\n",
       "      <td>-0.505099</td>\n",
       "      <td>-0.154399</td>\n",
       "      <td>-0.591787</td>\n",
       "      <td>0.681481</td>\n",
       "      <td>-0.052038</td>\n",
       "      <td>-0.201630</td>\n",
       "      <td>1.000000</td>\n",
       "      <td>0.635497</td>\n",
       "    </tr>\n",
       "    <tr>\n",
       "      <th>Qside</th>\n",
       "      <td>-0.494224</td>\n",
       "      <td>-0.557939</td>\n",
       "      <td>-0.659948</td>\n",
       "      <td>-0.202978</td>\n",
       "      <td>-0.548476</td>\n",
       "      <td>0.728218</td>\n",
       "      <td>0.211330</td>\n",
       "      <td>-0.261360</td>\n",
       "      <td>0.635497</td>\n",
       "      <td>1.000000</td>\n",
       "    </tr>\n",
       "  </tbody>\n",
       "</table>\n",
       "</div>"
      ],
      "text/plain": [
       "                  ARFL   Argonne    Boeing  Delta Dental      Ford  \\\n",
       "ARFL          1.000000  0.316525  0.361881      0.243643  0.061635   \n",
       "Argonne       0.316525  1.000000  0.483512      0.063318  0.157784   \n",
       "Boeing        0.361881  0.483512  1.000000     -0.146465  0.183945   \n",
       "Delta Dental  0.243643  0.063318 -0.146465      1.000000  0.042934   \n",
       "Ford          0.061635  0.157784  0.183945      0.042934  1.000000   \n",
       "Hope Village -0.577136 -0.434898 -0.707230     -0.128369 -0.410659   \n",
       "Kellogg's    -0.211970 -0.338808 -0.101455     -0.424887 -0.120666   \n",
       "Neogen       -0.017531 -0.141758  0.156961     -0.205687  0.142023   \n",
       "Old Nation   -0.474939 -0.436384 -0.505099     -0.154399 -0.591787   \n",
       "Qside        -0.494224 -0.557939 -0.659948     -0.202978 -0.548476   \n",
       "\n",
       "              Hope Village  Kellogg's    Neogen  Old Nation     Qside  \n",
       "ARFL             -0.577136  -0.211970 -0.017531   -0.474939 -0.494224  \n",
       "Argonne          -0.434898  -0.338808 -0.141758   -0.436384 -0.557939  \n",
       "Boeing           -0.707230  -0.101455  0.156961   -0.505099 -0.659948  \n",
       "Delta Dental     -0.128369  -0.424887 -0.205687   -0.154399 -0.202978  \n",
       "Ford             -0.410659  -0.120666  0.142023   -0.591787 -0.548476  \n",
       "Hope Village      1.000000  -0.041932 -0.293983    0.681481  0.728218  \n",
       "Kellogg's        -0.041932   1.000000  0.045035   -0.052038  0.211330  \n",
       "Neogen           -0.293983   0.045035  1.000000   -0.201630 -0.261360  \n",
       "Old Nation        0.681481  -0.052038 -0.201630    1.000000  0.635497  \n",
       "Qside             0.728218   0.211330 -0.261360    0.635497  1.000000  "
      ]
     },
     "execution_count": 15,
     "metadata": {},
     "output_type": "execute_result"
    }
   ],
   "source": [
    "corr = dist.corr()\n",
    "corr"
   ]
  },
  {
   "cell_type": "code",
   "execution_count": 58,
   "id": "b3c12dc9",
   "metadata": {},
   "outputs": [],
   "source": [
    "# bad, should change the groupby. Many \"NA\" values\n",
    "summary = dist.groupby(Teams).size().unstack()\n",
    "\n",
    "from scipy.spatial.distance import squareform\n",
    "from scipy.spatial.distance import pdist\n",
    "\n",
    "pairwise = pd.DataFrame(\n",
    "    squareform(pdist(summary)),\n",
    "    columns = summary.index,\n",
    "    index = summary.index)\n",
    "#pairwise"
   ]
  },
  {
   "cell_type": "markdown",
   "id": "0278dd21",
   "metadata": {},
   "source": [
    "## Data Visualization\n",
    "\n",
    "This section make some graphs visualizing your results.  A distance matrix and/or network graph may be cool.  Think though the best way to show what you learned."
   ]
  },
  {
   "cell_type": "markdown",
   "id": "b573f7fd",
   "metadata": {},
   "source": [
    "Here using Seaborn, it isn't isn't a distance matrix but I thought the visualization could be intresting. I was courious if it could just give a quick glance at the general likness of the projects to another. I would not recommend this model.<br>\n",
    "The easist way to understand this visulization is the paler the color, the more similar the two groups are. The Darker the blue/red is is the more differnet they are."
   ]
  },
  {
   "cell_type": "code",
   "execution_count": 57,
   "id": "7e3b414c",
   "metadata": {},
   "outputs": [
    {
     "data": {
      "text/plain": [
       "<AxesSubplot:>"
      ]
     },
     "execution_count": 57,
     "metadata": {},
     "output_type": "execute_result"
    },
    {
     "data": {
      "image/png": "[encoded data removed]",
      "text/plain": [
       "<Figure size 432x288 with 2 Axes>"
      ]
     },
     "metadata": {
      "needs_background": "light"
     },
     "output_type": "display_data"
    }
   ],
   "source": [
    "mask = np.triu(np.ones_like(corr, dtype=bool))\n",
    "cmap = sns.diverging_palette(230, 20, as_cmap=True)\n",
    "sns.heatmap(corr, mask=mask, cmap=cmap, vmax=.3, center=0,\n",
    "            square=True, linewidths=.5, cbar_kws={\"shrink\": .5})\n",
    "#closer to white is more similar to each other. Stronger color is less similar."
   ]
  },
  {
   "cell_type": "markdown",
   "id": "b9484c6c",
   "metadata": {},
   "source": [
    "## Conclusion\n",
    "\n",
    "This should be similar to the abstract but with more details. What can you conclude about your project from this data?"
   ]
  },
  {
   "cell_type": "markdown",
   "id": "16db2083",
   "metadata": {},
   "source": [
    "## Sources\n",
    "[Pairwise Distance Matrix Tutoral](https://drawingfromdata.com/pandas/clustering/making-a-pairwise-distance-matrix-in-pandas.html)<br>\n",
    "[Seaborn Correlation](https://seaborn.pydata.org/examples/many_pairwise_correlations.html)"
   ]
  }
 ],
 "metadata": {
  "kernelspec": {
   "display_name": "Python 3 (ipykernel)",
   "language": "python",
   "name": "python3"
  },
  "language_info": {
   "codemirror_mode": {
    "name": "ipython",
    "version": 3
   },
   "file_extension": ".py",
   "mimetype": "text/x-python",
   "name": "python",
   "nbconvert_exporter": "python",
   "pygments_lexer": "ipython3",
   "version": "3.9.7"
  }
 },
 "nbformat": 4,
 "nbformat_minor": 5
}
