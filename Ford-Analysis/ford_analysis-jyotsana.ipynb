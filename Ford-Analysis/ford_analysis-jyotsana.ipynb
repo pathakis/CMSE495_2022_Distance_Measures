{
 "cells": [
  {
   "cell_type": "code",
   "execution_count": 3,
   "id": "1c01d8b8",
   "metadata": {},
   "outputs": [],
   "source": [
    "import pandas as pd\n",
    "import matplotlib.pyplot as plt \n",
    "import numpy as np\n",
    "%matplotlib inline "
   ]
  },
  {
   "cell_type": "code",
   "execution_count": 4,
   "id": "18bdcf45",
   "metadata": {},
   "outputs": [],
   "source": [
    "data = pd.read_csv(\"2022_Project_distance_Matrix.csv\")"
   ]
  },
  {
   "cell_type": "markdown",
   "id": "f7a6b378",
   "metadata": {},
   "source": [
    "## Disagrement \n",
    "\n",
    "The dictionary below lists the standard deviations between the teams and you can look at it to see how much the team members agree of disagree with the ratings."
   ]
  },
  {
   "cell_type": "code",
   "execution_count": 5,
   "id": "0b9f8ce8",
   "metadata": {},
   "outputs": [
    {
     "data": {
      "text/plain": [
       "{'ARFL': ARFL            0.000000\n",
       " Argonne         1.581139\n",
       " Boeing          3.464102\n",
       " Delta Dental    2.949576\n",
       " Ford            2.549510\n",
       " Hope Village    2.949576\n",
       " Kellogg's       1.816590\n",
       " Neogen          1.581139\n",
       " Old Nation      1.516575\n",
       " Qside           1.816590\n",
       " dtype: float64,\n",
       " 'Argonne': ARFL            2.081666\n",
       " Argonne         0.000000\n",
       " Boeing          1.154701\n",
       " Delta Dental    1.527525\n",
       " Ford            4.041452\n",
       " Hope Village    2.309401\n",
       " Kellogg's       1.000000\n",
       " Neogen          0.000000\n",
       " Old Nation      2.000000\n",
       " Qside           2.081666\n",
       " dtype: float64,\n",
       " 'Boeing': ARFL            1.643168\n",
       " Argonne         1.816590\n",
       " Boeing          0.000000\n",
       " Delta Dental    1.643168\n",
       " Ford            3.361547\n",
       " Hope Village    0.707107\n",
       " Kellogg's       2.073644\n",
       " Neogen          1.140175\n",
       " Old Nation      3.033150\n",
       " Qside           2.073644\n",
       " dtype: float64,\n",
       " 'Delta Dental': ARFL            1.154701\n",
       " Argonne         0.577350\n",
       " Boeing          2.645751\n",
       " Delta Dental    0.000000\n",
       " Ford            4.041452\n",
       " Hope Village    1.154701\n",
       " Kellogg's       2.081666\n",
       " Neogen          2.000000\n",
       " Old Nation      2.000000\n",
       " Qside           1.527525\n",
       " dtype: float64,\n",
       " 'Ford': ARFL            1.516575\n",
       " Argonne         1.224745\n",
       " Boeing          1.834848\n",
       " Delta Dental    1.366260\n",
       " Ford            0.000000\n",
       " Hope Village    1.032796\n",
       " Kellogg's       3.250641\n",
       " Neogen          1.940790\n",
       " Old Nation      1.602082\n",
       " Qside           1.788854\n",
       " dtype: float64,\n",
       " 'Hope Village': ARFL            1.303840\n",
       " Argonne         2.073644\n",
       " Boeing          2.683282\n",
       " Delta Dental    2.408319\n",
       " Ford            2.387467\n",
       " Hope Village    0.000000\n",
       " Kellogg's       1.341641\n",
       " Neogen          1.516575\n",
       " Old Nation      1.732051\n",
       " Qside           0.547723\n",
       " dtype: float64,\n",
       " \"Kellogg's\": ARFL            3.214550\n",
       " Argonne         1.527525\n",
       " Boeing          3.214550\n",
       " Delta Dental    1.154701\n",
       " Ford            2.645751\n",
       " Hope Village    0.577350\n",
       " Kellogg's       0.000000\n",
       " Neogen          1.527525\n",
       " Old Nation      3.000000\n",
       " Qside           0.577350\n",
       " dtype: float64,\n",
       " 'Neogen': ARFL            2.081666\n",
       " Argonne         2.645751\n",
       " Boeing          4.041452\n",
       " Delta Dental    2.000000\n",
       " Ford            2.081666\n",
       " Hope Village    2.081666\n",
       " Kellogg's       2.886751\n",
       " Neogen          0.000000\n",
       " Old Nation      1.527525\n",
       " Qside           3.605551\n",
       " dtype: float64,\n",
       " 'Old Nation': ARFL            1.825742\n",
       " Argonne         2.629956\n",
       " Boeing          1.290994\n",
       " Delta Dental    1.500000\n",
       " Ford            1.707825\n",
       " Hope Village    0.500000\n",
       " Kellogg's       1.732051\n",
       " Neogen          0.500000\n",
       " Old Nation      0.000000\n",
       " Qside           0.500000\n",
       " dtype: float64,\n",
       " 'Qside': ARFL            0.707107\n",
       " Argonne         0.707107\n",
       " Boeing          0.000000\n",
       " Delta Dental    2.828427\n",
       " Ford            1.414214\n",
       " Hope Village    0.707107\n",
       " Kellogg's       1.414214\n",
       " Neogen          0.000000\n",
       " Old Nation      0.707107\n",
       " Qside           0.000000\n",
       " dtype: float64}"
      ]
     },
     "execution_count": 5,
     "metadata": {},
     "output_type": "execute_result"
    }
   ],
   "source": [
    "temp = {}\n",
    "\n",
    "for a in data.columns.values:\n",
    "    df = data[data[a] == 0]\n",
    "    #temp[a] = np.array(df.sum(0)/df.shape[0])\n",
    "    temp[a] = df.std(axis=0)\n",
    "\n",
    "temp"
   ]
  },
  {
   "cell_type": "code",
   "execution_count": 17,
   "id": "9a48d923",
   "metadata": {},
   "outputs": [],
   "source": [
    "prob_matrix = pd.DataFrame(temp).T.fillna(0)"
   ]
  },
  {
   "cell_type": "code",
   "execution_count": 32,
   "id": "8065b4af",
   "metadata": {},
   "outputs": [
    {
     "data": {
      "image/png": "[encoded data removed]",
      "text/plain": [
       "<Figure size 864x720 with 2 Axes>"
      ]
     },
     "metadata": {
      "needs_background": "light"
     },
     "output_type": "display_data"
    }
   ],
   "source": [
    "plt.figure(figsize=(12,10))\n",
    "sb.heatmap(prob_matrix, cmap=\"Blues\")\n",
    "plt.title(\"DISAGREEMENT HEATMAP\", fontsize = 20);\n",
    "plt.xticks(fontsize=12);\n",
    "plt.yticks(fontsize=12);"
   ]
  },
  {
   "cell_type": "code",
   "execution_count": null,
   "id": "6abc230d",
   "metadata": {},
   "outputs": [],
   "source": []
  }
 ],
 "metadata": {
  "kernelspec": {
   "display_name": "Python 3 (ipykernel)",
   "language": "python",
   "name": "python3"
  },
  "language_info": {
   "codemirror_mode": {
    "name": "ipython",
    "version": 3
   },
   "file_extension": ".py",
   "mimetype": "text/x-python",
   "name": "python",
   "nbconvert_exporter": "python",
   "pygments_lexer": "ipython3",
   "version": "3.9.7"
  }
 },
 "nbformat": 4,
 "nbformat_minor": 5
}
